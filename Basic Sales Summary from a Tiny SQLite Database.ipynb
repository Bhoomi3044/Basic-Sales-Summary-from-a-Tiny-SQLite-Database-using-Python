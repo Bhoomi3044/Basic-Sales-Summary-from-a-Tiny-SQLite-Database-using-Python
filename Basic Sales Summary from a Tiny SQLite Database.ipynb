{
 "cells": [
  {
   "cell_type": "code",
   "execution_count": null,
   "id": "6787262c-3908-4f83-845c-53b22fbb32d2",
   "metadata": {},
   "outputs": [],
   "source": []
  }
 ],
 "metadata": {
  "kernelspec": {
   "display_name": "",
   "name": ""
  },
  "language_info": {
   "name": ""
  }
 },
 "nbformat": 4,
 "nbformat_minor": 5
}
